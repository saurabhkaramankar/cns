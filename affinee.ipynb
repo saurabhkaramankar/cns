{
  "nbformat": 4,
  "nbformat_minor": 0,
  "metadata": {
    "colab": {
      "provenance": []
    },
    "kernelspec": {
      "name": "python3",
      "display_name": "Python 3"
    },
    "language_info": {
      "name": "python"
    }
  },
  "cells": [
    {
      "cell_type": "code",
      "source": [
        "def egcd(a, b):\n",
        "\tx,y, u,v = 0,1, 1,0\n",
        "\twhile a != 0:\n",
        "\t\tq, r = b//a, b%a\n",
        "\t\tm, n = x-u*q, y-v*q\n",
        "\t\tb,a, x,y, u,v = a,r, u,v, m,n\n",
        "\tgcd = b\n",
        "\treturn gcd, x, y\n",
        "\n",
        "def modinv(a, m):\n",
        "\tgcd, x, y = egcd(a, m)\n",
        "\tif gcd != 1:\n",
        "\t\treturn None \n",
        "\telse:\n",
        "\t\treturn x % m\n",
        "\n",
        "\n",
        "\n",
        "def affine_encrypt(text, key):\n",
        "\n",
        "\treturn ''.join([ chr((( key[0]*(ord(t) - ord('A')) + key[1] ) % 26)\n",
        "\t\t\t\t+ ord('A')) for t in text.upper().replace(' ', '') ])\n",
        "\n",
        "\n",
        "def affine_decrypt(cipher, key):\n",
        "\n",
        "\treturn ''.join([ chr((( modinv(key[0], 26)*(ord(c) - ord('A') - key[1]))\n",
        "\t\t\t\t\t% 26) + ord('A')) for c in cipher ])\n",
        "\n",
        "\n",
        "def main():\n",
        "\n",
        "\ttext = 'AFFINE CIPHER'\n",
        "\tkey = [17, 20]\n",
        "\n",
        "\n",
        "\taffine_encrypted_text = affine_encrypt(text, key)\n",
        "\n",
        "\tprint('Encrypted Text: {}'.format( affine_encrypted_text ))\n",
        "\n",
        "\tprint('Decrypted Text: {}'.format\n",
        "\t( affine_decrypt(affine_encrypted_text, key) ))\n",
        "\n",
        "\n",
        "if __name__ == '__main__':\n",
        "\tmain()\n",
        "\n"
      ],
      "metadata": {
        "colab": {
          "base_uri": "https://localhost:8080/"
        },
        "id": "ernJ7vERLsFM",
        "outputId": "c1d85d8f-6c42-4fb6-9080-ab3cbf819498"
      },
      "execution_count": 2,
      "outputs": [
        {
          "output_type": "stream",
          "name": "stdout",
          "text": [
            "Encrypted Text: UBBAHKCAPJKX\n",
            "Decrypted Text: AFFINECIPHER\n"
          ]
        }
      ]
    }
  ]
}