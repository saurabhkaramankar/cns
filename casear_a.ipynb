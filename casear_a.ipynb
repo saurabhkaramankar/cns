{
 "cells": [
  {
   "cell_type": "code",
   "execution_count": 13,
   "metadata": {},
   "outputs": [
    {
     "name": "stdout",
     "output_type": "stream",
     "text": [
      "Text  : HELLOWORLD\n",
      "Shift : 4\n",
      "Cipher: LIPPSASVPH\n"
     ]
    }
   ],
   "source": [
    "def encrypt(text,s):\n",
    "    result = \"\"\n",
    "  \n",
    "    for i in range(len(text)):\n",
    "        char = text[i]\n",
    "  \n",
    "        if (char.isupper()):\n",
    "            result += chr((ord(char) + s-65) % 26+65)\n",
    "  \n",
    "        else:\n",
    "            result += chr((ord(char) + s-97) % 26+97)\n",
    "  \n",
    "    return result\n",
    "  \n",
    "text = \"HELLOWORLD\"\n",
    "s = 4\n",
    "print (\"Text  : \" + text)\n",
    "print (\"Shift : \" + str(s))\n",
    "print (\"Cipher: \" + encrypt(text,s))"
   ]
  },
  {
   "cell_type": "code",
   "execution_count": 4,
   "metadata": {},
   "outputs": [
    {
     "name": "stdout",
     "output_type": "stream",
     "text": [
      "Text  : LIPPSASVPH\n",
      "Shift : 22\n",
      "Cipher: HELLOWORLD\n"
     ]
    }
   ],
   "source": [
    "def decryption(text,s): \n",
    "  result = \"\"\n",
    "  for i in range(len(text)):\n",
    "        char = text[i]\n",
    "     \n",
    "        if (char.isupper()):\n",
    "            result += chr((ord(char) + s-65) % 26+65)\n",
    "  \n",
    "        else:\n",
    "            result += chr((ord(char) + s-97) % 26+97)\n",
    "  \n",
    "\n",
    "  return result\n",
    "\n",
    "text = \"LIPPSASVPH\"\n",
    "s = 4\n",
    "print (\"Text  : \" + text)\n",
    "print (\"Shift : \" + str(26-s))\n",
    "print (\"Cipher: \" + decryption(text,26-s))"
   ]
  },
  {
   "cell_type": "code",
   "execution_count": 15,
   "metadata": {},
   "outputs": [
    {
     "name": "stdout",
     "output_type": "stream",
     "text": [
      "Hacking key #25: MJQQTBTWQI\n"
     ]
    }
   ],
   "source": [
    "#BRUTE_FORCE_CIPHER\n",
    "\n",
    "message = 'LIPPSASVPH' \n",
    "LETTERS = 'ABCDEFGHIJKLMNOPQRSTUVWXYZ'\n",
    "\n",
    "for key in range(len(LETTERS)):\n",
    "   translated = ''\n",
    "   for symbol in message:\n",
    "      if symbol in LETTERS:\n",
    "         num = LETTERS.find(symbol)\n",
    "         num = num - key\n",
    "         if num < 0:\n",
    "            num = num + len(LETTERS)\n",
    "         translated = translated + LETTERS[num]\n",
    "      else:\n",
    "         translated = translated + symbol\n",
    "print('Hacking key #%s: %s' % (key, translated))"
   ]
  },
  {
   "cell_type": "code",
   "execution_count": 9,
   "metadata": {},
   "outputs": [
    {
     "ename": "SyntaxError",
     "evalue": "invalid syntax (<ipython-input-9-7dac06f48c2b>, line 4)",
     "output_type": "error",
     "traceback": [
      "\u001b[1;36m  File \u001b[1;32m\"<ipython-input-9-7dac06f48c2b>\"\u001b[1;36m, line \u001b[1;32m4\u001b[0m\n\u001b[1;33m    for int n in range(26):\u001b[0m\n\u001b[1;37m            ^\u001b[0m\n\u001b[1;31mSyntaxError\u001b[0m\u001b[1;31m:\u001b[0m invalid syntax\n"
     ]
    }
   ],
   "source": []
  },
  {
   "cell_type": "code",
   "execution_count": null,
   "metadata": {},
   "outputs": [],
   "source": []
  }
 ],
 "metadata": {
  "kernelspec": {
   "display_name": "Python 3",
   "language": "python",
   "name": "python3"
  },
  "language_info": {
   "codemirror_mode": {
    "name": "ipython",
    "version": 3
   },
   "file_extension": ".py",
   "mimetype": "text/x-python",
   "name": "python",
   "nbconvert_exporter": "python",
   "pygments_lexer": "ipython3",
   "version": "3.8.8"
  }
 },
 "nbformat": 4,
 "nbformat_minor": 2
}
