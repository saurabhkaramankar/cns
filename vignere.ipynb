{
  "nbformat": 4,
  "nbformat_minor": 0,
  "metadata": {
    "colab": {
      "provenance": []
    },
    "kernelspec": {
      "name": "python3",
      "display_name": "Python 3"
    },
    "language_info": {
      "name": "python"
    }
  },
  "cells": [
    {
      "cell_type": "code",
      "execution_count": 1,
      "metadata": {
        "colab": {
          "base_uri": "https://localhost:8080/"
        },
        "id": "475B7SLgJ9PW",
        "outputId": "b71759da-6684-4a61-f2df-0d0c075fbf83"
      },
      "outputs": [
        {
          "output_type": "stream",
          "name": "stdout",
          "text": [
            "Enter the message: saurabh\n",
            "Enter the keyword: rabh\n",
            "Encrypted message: VMHKDNU\n",
            "Decrypted message: YGAXGHN\n"
          ]
        }
      ],
      "source": [
        "def generateKey(string, key): \n",
        "  key = list(key) \n",
        "  if len(string) == len(key): \n",
        "    return(key) \n",
        "  else: \n",
        "    for i in range(len(string) -len(key)): \n",
        "      key.append(key[i % len(key)]) \n",
        "  return(\"\" . join(key)) \n",
        "  \n",
        "def encryption(string, key): \n",
        "  encrypt_text = [] \n",
        "  for i in range(len(string)): \n",
        "    x = (ord(string[i]) +ord(key[i])) % 26\n",
        "    x += ord('A') \n",
        "    encrypt_text.append(chr(x)) \n",
        "  return(\"\" . join(encrypt_text)) \n",
        "def decryption(encrypt_text, key): \n",
        "  orig_text = [] \n",
        "  for i in range(len(encrypt_text)): \n",
        "    x = (ord(encrypt_text[i]) -ord(key[i]) + 26) % 26\n",
        "    x += ord('A') \n",
        "    orig_text.append(chr(x)) \n",
        "  return(\"\" . join(orig_text)) \n",
        "if __name__ == \"__main__\": \n",
        "  string = input(\"Enter the message: \")\n",
        "  keyword = input(\"Enter the keyword: \")\n",
        "  key = generateKey(string, keyword) \n",
        "  encrypt_text = encryption(string,key) \n",
        "  print(\"Encrypted message:\", encrypt_text) \n",
        "  print(\"Decrypted message:\", decryption(encrypt_text, key))"
      ]
    }
  ]
}